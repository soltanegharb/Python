{
 "cells": [
  {
   "cell_type": "code",
   "execution_count": 13,
   "id": "9c645200",
   "metadata": {},
   "outputs": [],
   "source": [
    "import numpy as np\n",
    "import cv2,os,sys\n",
    "import argparse\n",
    "import common\n",
    "import hashlib\n",
    "\n",
    "from common import clock, draw_str\n",
    "from collections import namedtuple"
   ]
  },
  {
   "cell_type": "code",
   "execution_count": 15,
   "id": "d4bb36c0",
   "metadata": {},
   "outputs": [],
   "source": [
    "Rectangle = namedtuple('Rectangle', 'xmin ymin xmax ymax')\n",
    "#define default folders\n",
    "curfolder = os.path.join(os.curdir)\n",
    "masks = os.path.join(os.curdir, 'masks')\n",
    "detect_outfolder = os.path.abspath(os.path.join(os.curdir, 'detect_outfolder'))\n",
    "motion_outfolder =os.path.abspath(os.path.join(os.curdir, 'motion_outfolder'))\n",
    "diff_outfolder = os.path.abspath(os.path.join(os.curdir, 'diff_outfolder'))\n",
    "positives = os.path.abspath(os.path.join(os.curdir, 'positives'))\n",
    "negatives = os.path.abspath(os.path.join(os.curdir, 'negatives'))\n",
    "vidseq = os.path.abspath(os.path.join(os.curdir, 'videoseq'))\n",
    "\n",
    "folders=[\"detect_outfolder\",\"motion_outfolder\",\"diff_outfolder\",\"settings\",\"negatives\",\"positives\",\"videoseq\"]\n",
    "\n",
    "negatives_list=os.path.join(os.curdir, \"settings\", \"negatives.txt\")\n",
    "positives_list=os.path.join(os.curdir, \"settings\", \"positives.txt\")\n",
    "ignore_list=os.path.join(os.curdir, \"settings\", \"ignore.txt\")\n",
    "\n",
    "fgbg = cv2.createBackgroundSubtractorMOG2()"
   ]
  },
  {
   "cell_type": "code",
   "execution_count": 22,
   "id": "c121d946",
   "metadata": {},
   "outputs": [],
   "source": [
    "#load mask\n",
    "mask=cv2.imread(os.path.join(masks,\"smallmask.png\"))\n",
    "mask=cv2.cvtColor(mask,cv2.COLOR_BGR2GRAY)\n"
   ]
  },
  {
   "cell_type": "code",
   "execution_count": 35,
   "id": "71ba47f5",
   "metadata": {},
   "outputs": [
    {
     "data": {
      "text/plain": [
       "_StoreAction(option_strings=['-f'], dest='f', nargs=None, const=None, default=None, type=None, choices=None, required=False, help=None, metavar=None)"
      ]
     },
     "execution_count": 35,
     "metadata": {},
     "output_type": "execute_result"
    }
   ],
   "source": [
    "parser = argparse.ArgumentParser(description='Process options')\n",
    "parser.add_argument('--cascade', help='define cascade classifier',required=False )\n",
    "parser.add_argument('--video', help='define video',required=False)\n",
    "parser.add_argument('--savedetections', help='save Haar Detections', action=\"store_true\")\n",
    "parser.add_argument('--savemotiondetections', help='Save motion detections', action=\"store_true\")\n",
    "parser.add_argument('--overlapratio', help='Overlap Ratio 0-1', default=0.6)\n",
    "parser.add_argument('--savediffs', help='Save detection differences. That is save all images not overlaping',  action=\"store_true\")\n",
    "parser.add_argument('--showHaarDetections', help='Show Haar Detections in the window',  action=\"store_true\")\n",
    "parser.add_argument('--showMotionDetections', help='Show Motion Detections in the window',  action=\"store_true\")\n",
    "parser.add_argument('--UpdateLists', help='Updates the positive and negative lists',  action=\"store_true\")\n",
    "parser.add_argument('--EnableMotionDetect', help='Enables Motion Detection',  action=\"store_true\")\n",
    "parser.add_argument('--EnableOutStream', help='Enables Streaming to pipe',  action=\"store_true\")\n",
    "parser.add_argument('--SaveOutStream', help='Saves Image Stream for video Creation',  action=\"store_true\")\n",
    "parser.add_argument(\"-f\", required=False)\n"
   ]
  },
  {
   "cell_type": "code",
   "execution_count": 47,
   "id": "5eee7d3e",
   "metadata": {},
   "outputs": [],
   "source": [
    "args = parser.parse_args()"
   ]
  },
  {
   "cell_type": "code",
   "execution_count": 48,
   "id": "d8f8b190",
   "metadata": {},
   "outputs": [
    {
     "ename": "TypeError",
     "evalue": "object supporting the buffer API required",
     "output_type": "error",
     "traceback": [
      "\u001b[1;31m---------------------------------------------------------------------------\u001b[0m",
      "\u001b[1;31mTypeError\u001b[0m                                 Traceback (most recent call last)",
      "Cell \u001b[1;32mIn[48], line 3\u001b[0m\n\u001b[0;32m      1\u001b[0m cascade_fn \u001b[38;5;241m=\u001b[39m args\u001b[38;5;241m.\u001b[39mcascade\n\u001b[0;32m      2\u001b[0m video_src \u001b[38;5;241m=\u001b[39m  args\u001b[38;5;241m.\u001b[39mvideo\n\u001b[1;32m----> 3\u001b[0m namesum\u001b[38;5;241m=\u001b[39mhashlib\u001b[38;5;241m.\u001b[39mmd5(video_src)\u001b[38;5;241m.\u001b[39mhexdigest()\n",
      "\u001b[1;31mTypeError\u001b[0m: object supporting the buffer API required"
     ]
    }
   ],
   "source": [
    "cascade_fn = args.cascade\n",
    "video_src =  args.video\n",
    "namesum=hashlib.md5(video_src).hexdigest()\n"
   ]
  },
  {
   "cell_type": "code",
   "execution_count": null,
   "id": "843f5446",
   "metadata": {},
   "outputs": [],
   "source": []
  }
 ],
 "metadata": {
  "kernelspec": {
   "display_name": "Python 3 (ipykernel)",
   "language": "python",
   "name": "python3"
  },
  "language_info": {
   "codemirror_mode": {
    "name": "ipython",
    "version": 3
   },
   "file_extension": ".py",
   "mimetype": "text/x-python",
   "name": "python",
   "nbconvert_exporter": "python",
   "pygments_lexer": "ipython3",
   "version": "3.11.5"
  }
 },
 "nbformat": 4,
 "nbformat_minor": 5
}
