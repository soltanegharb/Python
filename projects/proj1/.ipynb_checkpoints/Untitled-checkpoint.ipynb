{
 "cells": [
  {
   "cell_type": "markdown",
   "id": "9aa3990a",
   "metadata": {},
   "source": [
    "#Python project1 writing a code that get a string ( in any size but only letters ), and a number, then  move forward the letters by the given number. if number is greater than 26 start over from letter a."
   ]
  },
  {
   "cell_type": "code",
   "execution_count": 17,
   "id": "dca0523e",
   "metadata": {},
   "outputs": [
    {
     "name": "stdout",
     "output_type": "stream",
     "text": [
      "please input your string to be forwarded then press Enter button\n",
      "uyghj\n",
      "please input your number to move forward the string by that then press Enter button\n",
      "85\n"
     ]
    }
   ],
   "source": [
    "#input the string and the number\n",
    "\n",
    "usrStr = input(\"please input your string to be forwarded then press Enter button\\n\")\n",
    "usrNum = int(input(\"please input your number to move forward the string by that then press Enter button\\n\"))\n"
   ]
  },
  {
   "cell_type": "code",
   "execution_count": 15,
   "id": "c0e3450d",
   "metadata": {},
   "outputs": [],
   "source": [
    "#make the dictionary of English letters by their index starting from 1\n",
    "\n",
    "engAlphLetter = {\"a\":1,\"b\":2,\"c\":3,\"d\":4,\"e\":5,\"f\":6,\"g\":7,\"h\":8,\"i\":9,\"j\":10,\"k\":11,\"l\":12,\"m\":13,\"n\":14,\"o\":15,\"p\":16,\"q\":17,\n",
    "                 \"r\":18,\"s\":19,\"t\":20,\"u\":21,\"v\":22,\"w\":23,\"x\":24,\"y\":25,\"z\":26}\n",
    "\n",
    "engAlphNumber = {1:\"a\",2:\"b\",3:\"c\",4:\"d\",5:\"e\",6:\"f\",7:\"g\",8:\"h\",9:\"i\",10:\"j\",11:\"k\",12:\"l\",13:\"m\",14:\"n\",15:\"o\",16:\"p\",17:\"q\",\n",
    "                 18:\"r\",19:\"s\",20:\"t\",21:\"u\",22:\"v\",23:\"w\",24:\"x\",25:\"y\",26:\"z\"}\n",
    "\n"
   ]
  },
  {
   "cell_type": "code",
   "execution_count": 20,
   "id": "937d5dd8",
   "metadata": {},
   "outputs": [
    {
     "name": "stdout",
     "output_type": "stream",
     "text": [
      "bfnoq\n"
     ]
    }
   ],
   "source": [
    "#process the user input and solve the problem\n",
    "new_usrStr = []\n",
    "usrStr_listed = list(usrStr)\n",
    "for c in usrStr_listed:\n",
    "    new_var = engAlph[c] + usrNum\n",
    "    if new_var>26:\n",
    "        new_var_edited = new_var%26\n",
    "        j = engAlphNumber[new_var_edited]\n",
    "    else:\n",
    "        j = engAlphNumber[new_var]\n",
    "    new_usrStr.append(j)\n",
    "\n",
    "output = \"\".join(new_usrStr)\n",
    "print(output)"
   ]
  },
  {
   "cell_type": "code",
   "execution_count": null,
   "id": "dd577696",
   "metadata": {},
   "outputs": [],
   "source": []
  }
 ],
 "metadata": {
  "kernelspec": {
   "display_name": "Python 3 (ipykernel)",
   "language": "python",
   "name": "python3"
  },
  "language_info": {
   "codemirror_mode": {
    "name": "ipython",
    "version": 3
   },
   "file_extension": ".py",
   "mimetype": "text/x-python",
   "name": "python",
   "nbconvert_exporter": "python",
   "pygments_lexer": "ipython3",
   "version": "3.11.5"
  }
 },
 "nbformat": 4,
 "nbformat_minor": 5
}
