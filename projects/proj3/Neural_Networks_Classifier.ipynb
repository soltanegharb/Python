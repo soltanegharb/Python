{
 "cells": [
  {
   "cell_type": "code",
   "execution_count": 130,
   "id": "5f5c4fec",
   "metadata": {},
   "outputs": [],
   "source": [
    "# Import required libraries\n",
    "import pandas as pd\n",
    "import numpy as np \n",
    "import matplotlib.pyplot as plt\n",
    "import sklearn\n",
    "from sklearn.neural_network import MLPClassifier\n",
    "from sklearn.neural_network import MLPRegressor\n",
    "\n",
    "# Import necessary modules\n",
    "from sklearn.model_selection import train_test_split\n",
    "from sklearn.metrics import mean_squared_error\n",
    "from math import sqrt\n",
    "from sklearn.metrics import r2_score\n",
    "from sklearn.neural_network import MLPClassifier\n",
    "from sklearn.metrics import classification_report,confusion_matrix,accuracy_score \n",
    "\n"
   ]
  },
  {
   "cell_type": "code",
   "execution_count": 121,
   "id": "05cc82ea",
   "metadata": {},
   "outputs": [
    {
     "data": {
      "text/html": [
       "<div>\n",
       "<style scoped>\n",
       "    .dataframe tbody tr th:only-of-type {\n",
       "        vertical-align: middle;\n",
       "    }\n",
       "\n",
       "    .dataframe tbody tr th {\n",
       "        vertical-align: top;\n",
       "    }\n",
       "\n",
       "    .dataframe thead th {\n",
       "        text-align: right;\n",
       "    }\n",
       "</style>\n",
       "<table border=\"1\" class=\"dataframe\">\n",
       "  <thead>\n",
       "    <tr style=\"text-align: right;\">\n",
       "      <th></th>\n",
       "      <th>count</th>\n",
       "      <th>unique</th>\n",
       "      <th>top</th>\n",
       "      <th>freq</th>\n",
       "    </tr>\n",
       "  </thead>\n",
       "  <tbody>\n",
       "    <tr>\n",
       "      <th>age</th>\n",
       "      <td>1026</td>\n",
       "      <td>42</td>\n",
       "      <td>58</td>\n",
       "      <td>68</td>\n",
       "    </tr>\n",
       "    <tr>\n",
       "      <th>sex</th>\n",
       "      <td>1026</td>\n",
       "      <td>3</td>\n",
       "      <td>1</td>\n",
       "      <td>713</td>\n",
       "    </tr>\n",
       "    <tr>\n",
       "      <th>cp</th>\n",
       "      <td>1026</td>\n",
       "      <td>5</td>\n",
       "      <td>0</td>\n",
       "      <td>497</td>\n",
       "    </tr>\n",
       "    <tr>\n",
       "      <th>trestbps</th>\n",
       "      <td>1026</td>\n",
       "      <td>50</td>\n",
       "      <td>120</td>\n",
       "      <td>128</td>\n",
       "    </tr>\n",
       "    <tr>\n",
       "      <th>chol</th>\n",
       "      <td>1026</td>\n",
       "      <td>153</td>\n",
       "      <td>234</td>\n",
       "      <td>21</td>\n",
       "    </tr>\n",
       "    <tr>\n",
       "      <th>fbs</th>\n",
       "      <td>1026</td>\n",
       "      <td>3</td>\n",
       "      <td>0</td>\n",
       "      <td>872</td>\n",
       "    </tr>\n",
       "    <tr>\n",
       "      <th>restecg</th>\n",
       "      <td>1026</td>\n",
       "      <td>4</td>\n",
       "      <td>1</td>\n",
       "      <td>513</td>\n",
       "    </tr>\n",
       "    <tr>\n",
       "      <th>thalach</th>\n",
       "      <td>1026</td>\n",
       "      <td>92</td>\n",
       "      <td>162</td>\n",
       "      <td>35</td>\n",
       "    </tr>\n",
       "    <tr>\n",
       "      <th>exang</th>\n",
       "      <td>1026</td>\n",
       "      <td>3</td>\n",
       "      <td>0</td>\n",
       "      <td>680</td>\n",
       "    </tr>\n",
       "    <tr>\n",
       "      <th>oldpeak</th>\n",
       "      <td>1026</td>\n",
       "      <td>41</td>\n",
       "      <td>0</td>\n",
       "      <td>329</td>\n",
       "    </tr>\n",
       "    <tr>\n",
       "      <th>slope</th>\n",
       "      <td>1026</td>\n",
       "      <td>4</td>\n",
       "      <td>1</td>\n",
       "      <td>482</td>\n",
       "    </tr>\n",
       "    <tr>\n",
       "      <th>ca</th>\n",
       "      <td>1026</td>\n",
       "      <td>6</td>\n",
       "      <td>0</td>\n",
       "      <td>578</td>\n",
       "    </tr>\n",
       "    <tr>\n",
       "      <th>thal</th>\n",
       "      <td>1026</td>\n",
       "      <td>5</td>\n",
       "      <td>2</td>\n",
       "      <td>544</td>\n",
       "    </tr>\n",
       "    <tr>\n",
       "      <th>target</th>\n",
       "      <td>1026</td>\n",
       "      <td>3</td>\n",
       "      <td>1</td>\n",
       "      <td>526</td>\n",
       "    </tr>\n",
       "  </tbody>\n",
       "</table>\n",
       "</div>"
      ],
      "text/plain": [
       "         count unique  top freq\n",
       "age       1026     42   58   68\n",
       "sex       1026      3    1  713\n",
       "cp        1026      5    0  497\n",
       "trestbps  1026     50  120  128\n",
       "chol      1026    153  234   21\n",
       "fbs       1026      3    0  872\n",
       "restecg   1026      4    1  513\n",
       "thalach   1026     92  162   35\n",
       "exang     1026      3    0  680\n",
       "oldpeak   1026     41    0  329\n",
       "slope     1026      4    1  482\n",
       "ca        1026      6    0  578\n",
       "thal      1026      5    2  544\n",
       "target    1026      3    1  526"
      ]
     },
     "execution_count": 121,
     "metadata": {},
     "output_type": "execute_result"
    }
   ],
   "source": [
    "#Working with the dataset here\n",
    "\n",
    "col_names = ['age','sex','cp','trestbps','chol','fbs','restecg','thalach','exang','oldpeak','slope','ca','thal','target']\n",
    "data = pd.read_csv(\"heart.csv\",header=None, names=col_names)\n",
    "data.describe().transpose()"
   ]
  },
  {
   "cell_type": "markdown",
   "id": "7b3adc51",
   "metadata": {},
   "source": [
    "target_column = ['target'] \n",
    "predictors = list(set(list(data.columns))-set(target_column))\n",
    "data[predictors] = data[predictors]\n",
    "data[predictors].max()\n",
    "#data.iloc[1:,:-1]\n",
    "#(data.iloc[1:,:-1].max())"
   ]
  },
  {
   "cell_type": "code",
   "execution_count": 122,
   "id": "7468fc2e",
   "metadata": {},
   "outputs": [],
   "source": [
    "#split the dataset in features and target variable\n",
    "feature_cols = ['age','sex','cp','trestbps','chol','fbs','restecg','thalach','exang','oldpeak','slope','ca','thal']\n",
    "x = data[feature_cols]\n",
    "x = data.iloc[1:,:-1].values\n",
    "y = data['target']\n",
    "y = data.iloc[1:,-1].values"
   ]
  },
  {
   "cell_type": "code",
   "execution_count": 123,
   "id": "2ce87297",
   "metadata": {},
   "outputs": [
    {
     "name": "stdout",
     "output_type": "stream",
     "text": [
      "(717, 13)\n",
      "(308, 13)\n"
     ]
    }
   ],
   "source": [
    "#Splitting data into Train and Test Sets\n",
    "x_train, x_test, y_train, y_test = train_test_split(x, y, test_size=0.30, random_state=40)\n",
    "print(x_train.shape); print(x_test.shape)\n"
   ]
  },
  {
   "cell_type": "code",
   "execution_count": 124,
   "id": "00733b03",
   "metadata": {},
   "outputs": [],
   "source": [
    "mlp = MLPClassifier(hidden_layer_sizes=(8,8,8), activation='relu', solver='adam', max_iter=500)\n",
    "mlp.fit(x_train,y_train)\n",
    "\n",
    "\n",
    "predict_train = mlp.predict(x_train)\n",
    "predict_test = mlp.predict(x_test)\n",
    "\n"
   ]
  },
  {
   "cell_type": "code",
   "execution_count": 141,
   "id": "f2397c7d",
   "metadata": {},
   "outputs": [
    {
     "name": "stdout",
     "output_type": "stream",
     "text": [
      "accuracy_test :  85.06493506493507\n",
      "accuracy_train :  85.91352859135286\n"
     ]
    }
   ],
   "source": [
    "accuracy_test = accuracy_score(y_test,predict_test)*100\n",
    "accuracy_train = accuracy_score(y_train,predict_train)*100\n",
    "\n",
    "print(\"accuracy_test : \",accuracy_test)\n",
    "print(\"accuracy_train : \",accuracy_train)"
   ]
  },
  {
   "cell_type": "code",
   "execution_count": 125,
   "id": "40db012a",
   "metadata": {},
   "outputs": [
    {
     "name": "stdout",
     "output_type": "stream",
     "text": [
      "[[283  63]\n",
      " [ 38 333]]\n",
      "              precision    recall  f1-score   support\n",
      "\n",
      "           0       0.88      0.82      0.85       346\n",
      "           1       0.84      0.90      0.87       371\n",
      "\n",
      "    accuracy                           0.86       717\n",
      "   macro avg       0.86      0.86      0.86       717\n",
      "weighted avg       0.86      0.86      0.86       717\n",
      "\n"
     ]
    }
   ],
   "source": [
    "print(confusion_matrix(y_train,predict_train))\n",
    "print(classification_report(y_train,predict_train))\n"
   ]
  },
  {
   "cell_type": "code",
   "execution_count": 128,
   "id": "080ba951",
   "metadata": {},
   "outputs": [
    {
     "name": "stdout",
     "output_type": "stream",
     "text": [
      "[[122  31]\n",
      " [ 15 140]]\n",
      "              precision    recall  f1-score   support\n",
      "\n",
      "           0       0.89      0.80      0.84       153\n",
      "           1       0.82      0.90      0.86       155\n",
      "\n",
      "    accuracy                           0.85       308\n",
      "   macro avg       0.85      0.85      0.85       308\n",
      "weighted avg       0.85      0.85      0.85       308\n",
      "\n"
     ]
    }
   ],
   "source": [
    "print(confusion_matrix(y_test,predict_test))\n",
    "print(classification_report(y_test,predict_test))\n"
   ]
  },
  {
   "cell_type": "code",
   "execution_count": null,
   "id": "e67c97e3",
   "metadata": {},
   "outputs": [],
   "source": []
  }
 ],
 "metadata": {
  "kernelspec": {
   "display_name": "Python 3 (ipykernel)",
   "language": "python",
   "name": "python3"
  },
  "language_info": {
   "codemirror_mode": {
    "name": "ipython",
    "version": 3
   },
   "file_extension": ".py",
   "mimetype": "text/x-python",
   "name": "python",
   "nbconvert_exporter": "python",
   "pygments_lexer": "ipython3",
   "version": "3.11.5"
  }
 },
 "nbformat": 4,
 "nbformat_minor": 5
}
