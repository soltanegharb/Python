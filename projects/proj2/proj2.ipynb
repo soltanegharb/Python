{
 "cells": [
  {
   "cell_type": "markdown",
   "id": "24eb31a1",
   "metadata": {},
   "source": [
    "Write a code to get the titles, views and tags of 1000 Continuous news and export it in a csv file."
   ]
  },
  {
   "cell_type": "markdown",
   "id": "56a4a557",
   "metadata": {},
   "source": [
    "Our strategy:\n",
    "\n",
    "    1st install requests, bs4\n",
    "    \n",
    "    2nd import requests, BeautifulSoup from bs4, csv\n",
    "    \n",
    "    3rd ask user to input the starting ID for the NEW he/she wants.\n",
    "    \n",
    "    4th get the page.\n",
    "    \n",
    "    5th make a for loop for 1000 pages.\n",
    "    \n",
    "    6th use BeautifulSoup which is bsoup in our code And use it to get the content of that page.\n",
    "    \n",
    "    7th find the header : h1 with class \"headline\"\n",
    "    \n",
    "    8th find the views : div with class \"news-info\"\n",
    "    \n",
    "    9th some edit on the found object in 8th step, to get views by number\n",
    "    \n",
    "    10th find the tags at footer : div with class \"tags tags-news\n",
    "    \n",
    "    11th find all tags in found object in 10th step\n",
    "    \n",
    "    12th write to a file"
   ]
  },
  {
   "cell_type": "code",
   "execution_count": 150,
   "id": "620a808d",
   "metadata": {},
   "outputs": [
    {
     "name": "stdout",
     "output_type": "stream",
     "text": [
      "Defaulting to user installation because normal site-packages is not writeable\n",
      "Requirement already satisfied: bs4 in c:\\users\\soltani\\appdata\\roaming\\python\\python311\\site-packages (0.0.1)\n",
      "Requirement already satisfied: requests in c:\\programdata\\anaconda3\\lib\\site-packages (2.31.0)\n",
      "Requirement already satisfied: beautifulsoup4 in c:\\programdata\\anaconda3\\lib\\site-packages (from bs4) (4.12.2)\n",
      "Requirement already satisfied: charset-normalizer<4,>=2 in c:\\programdata\\anaconda3\\lib\\site-packages (from requests) (2.0.4)\n",
      "Requirement already satisfied: idna<4,>=2.5 in c:\\programdata\\anaconda3\\lib\\site-packages (from requests) (3.4)\n",
      "Requirement already satisfied: urllib3<3,>=1.21.1 in c:\\programdata\\anaconda3\\lib\\site-packages (from requests) (1.26.16)\n",
      "Requirement already satisfied: certifi>=2017.4.17 in c:\\programdata\\anaconda3\\lib\\site-packages (from requests) (2023.7.22)\n",
      "Requirement already satisfied: soupsieve>1.2 in c:\\programdata\\anaconda3\\lib\\site-packages (from beautifulsoup4->bs4) (2.4)\n",
      "Defaulting to user installation because normal site-packages is not writeable\n",
      "Collecting python-csv\n",
      "  Using cached python-csv-0.0.13.tar.gz (26 kB)\n",
      "  Preparing metadata (setup.py): started\n",
      "  Preparing metadata (setup.py): finished with status 'done'\n",
      "Collecting argparse (from python-csv)\n",
      "  Using cached argparse-1.4.0-py2.py3-none-any.whl (23 kB)\n",
      "Requirement already satisfied: numpy in c:\\programdata\\anaconda3\\lib\\site-packages (from python-csv) (1.24.3)\n",
      "Requirement already satisfied: pandas in c:\\programdata\\anaconda3\\lib\\site-packages (from python-csv) (2.0.3)\n",
      "Requirement already satisfied: matplotlib in c:\\programdata\\anaconda3\\lib\\site-packages (from python-csv) (3.7.2)\n",
      "Collecting xlrd (from python-csv)\n",
      "  Using cached xlrd-2.0.1-py2.py3-none-any.whl (96 kB)\n",
      "Collecting xmltodict (from python-csv)\n",
      "  Using cached xmltodict-0.13.0-py2.py3-none-any.whl (10.0 kB)\n",
      "Collecting demjson (from python-csv)\n",
      "  Using cached demjson-2.2.4.tar.gz (131 kB)\n",
      "  Preparing metadata (setup.py): started\n",
      "  Preparing metadata (setup.py): finished with status 'error'\n"
     ]
    },
    {
     "name": "stderr",
     "output_type": "stream",
     "text": [
      "  error: subprocess-exited-with-error\n",
      "  \n",
      "  python setup.py egg_info did not run successfully.\n",
      "  exit code: 1\n",
      "  \n",
      "  [1 lines of output]\n",
      "  error in demjson setup command: use_2to3 is invalid.\n",
      "  [end of output]\n",
      "  \n",
      "  note: This error originates from a subprocess, and is likely not a problem with pip.\n",
      "error: metadata-generation-failed\n",
      "\n",
      "Encountered error while generating package metadata.\n",
      "\n",
      "See above for output.\n",
      "\n",
      "note: This is an issue with the package mentioned above, not pip.\n",
      "hint: See above for details.\n"
     ]
    }
   ],
   "source": [
    "!pip install bs4 requests"
   ]
  },
  {
   "cell_type": "code",
   "execution_count": 1,
   "id": "61bec4ad",
   "metadata": {},
   "outputs": [],
   "source": [
    "import requests\n",
    "import csv\n",
    "from bs4 import BeautifulSoup as bsoup"
   ]
  },
  {
   "cell_type": "code",
   "execution_count": 2,
   "id": "38ccb0a5",
   "metadata": {},
   "outputs": [],
   "source": [
    "id = 1979577"
   ]
  },
  {
   "cell_type": "code",
   "execution_count": 3,
   "id": "4ba55ce9",
   "metadata": {},
   "outputs": [
    {
     "name": "stdout",
     "output_type": "stream",
     "text": [
      "['هالند جاسوس چلسی را دستگیر کرد! (عکس)', 45100, ['چلسی', 'منچسترسیتی', 'ارلینگ هالند', 'لیگ برتر انگلیس', 'کول پالمر', 'فوتبال'], 'محبی قبل از اردوی ملی بد آورد (عکس)', 17300, ['روستوف', 'محمد محبی', 'لیگ برتر روسیه', 'فوتبال'], 'پیروانی: بابت فحشهای ناموسیتان متشکرم!', 57300, ['سپاهان', 'پرسپولیس', 'لیگ برتر ایران', 'افشین پیروانی', 'فوتبال'], 'رحمتی و شایعات یک بعد از ظهر خیلی تلخ', 27400, ['ذوب آهن', 'سیدمهدی رحمتی', 'نساجی مازندران', 'لیگ برتر ایران', 'فوتبال'], 'مورینیو: با ساری به تیمهایمان میخندیدیم!', 29700, ['آاس رم', 'سردار آزمون', 'خوزه مورینیو', 'سری آ ایتالیا', 'فوتبال'], 'اولین تصمیم یحیی بعد از باخت مقابل سپاهان', 356100, ['سپاهان', 'پرسپولیس', 'رضا اسدی', 'یحیی گل محمدی', 'لیگ برتر ایران', 'فوتبال'], 'به مورینیو گفتم استخوان لای زخمم هستی!', 32800, ['لاتزیو', 'مائوریتزیو ساری', 'خوزه مورینیو', 'سری آ ایتالیا', 'فوتبال'], 'برای خرید امباپه با دوچرخه تا پاریس میروم!', 86500, ['پاری سن ژرمن', 'کیلیان امباپه', 'توماس توخل', 'لیگ یک فرانسه', 'فوتبال'], 'ترابی بعد از فیفا دی ستاره میشود', 15600, ['پرسپولیس', 'مهدی ترابی', 'لیگ برتر ایران', 'فوتبال'], 'قهرمانی، آمانوف اولین جام را سرکشید! ', 19300, ['نسف قارشی', 'لیگ قهرمانان آسیا', 'آلمالیق', 'فوتبال'], 'مردی که دل استقلالیها را ربود (عکس)', 59100, ['استقلال', 'جواد نکونام', 'لیگ برتر ایران', 'فوتبال']]\n"
     ]
    }
   ],
   "source": [
    "all_exported = []\n",
    "file = open(\"proj2export.csv\", \"w\",encoding=\"utf-8\")\n",
    "writer = csv.writer(file)\n",
    "for page_number in range(id ,id+1001):\n",
    "    temp = []\n",
    "    page = f\"https://www.varzesh3.com/news/{page_number}\"\n",
    "    response = requests.get(page)\n",
    "    content = bsoup(response.content,\"html.parser\")\n",
    "    header = content.find(\"h1\", class_=\"headline\")\n",
    "    header = header.get_text().replace(\"\\u200c\", \"\")\n",
    "    data = content.find(\"div\", class_=\"news-info\")\n",
    "    views = int(float(data.find_all(\"span\")[2].get_text().split(\" \")[0][:-1]) * 1000 )\n",
    "    tagsnews = content.find(\"div\", class_=\"tags tags-news\")\n",
    "    tags = tagsnews.find_all(\"span\")\n",
    "    \n",
    "    all_exported.append(header)\n",
    "    all_exported.append(views)\n",
    "    for tag in tags:\n",
    "        temp.append(tag.get_text())\n",
    "    all_exported.append(temp)\n",
    "writer.writerow(all_exported)\n",
    "\n",
    "print(all_exported)\n",
    "file.close()\n"
   ]
  },
  {
   "cell_type": "code",
   "execution_count": null,
   "id": "5f0bec89",
   "metadata": {},
   "outputs": [],
   "source": []
  }
 ],
 "metadata": {
  "kernelspec": {
   "display_name": "Python 3 (ipykernel)",
   "language": "python",
   "name": "python3"
  },
  "language_info": {
   "codemirror_mode": {
    "name": "ipython",
    "version": 3
   },
   "file_extension": ".py",
   "mimetype": "text/x-python",
   "name": "python",
   "nbconvert_exporter": "python",
   "pygments_lexer": "ipython3",
   "version": "3.11.5"
  }
 },
 "nbformat": 4,
 "nbformat_minor": 5
}
